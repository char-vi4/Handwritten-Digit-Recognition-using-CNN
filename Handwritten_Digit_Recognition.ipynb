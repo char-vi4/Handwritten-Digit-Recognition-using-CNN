{
  "nbformat": 4,
  "nbformat_minor": 0,
  "metadata": {
    "colab": {
      "name": "Handwritten_Digit_Recognition.ipynb",
      "provenance": [],
      "collapsed_sections": []
    },
    "kernelspec": {
      "name": "python3",
      "display_name": "Python 3"
    },
    "language_info": {
      "name": "python"
    }
  },
  "cells": [
    {
      "cell_type": "code",
      "metadata": {
        "id": "PSuqFYhY_jQ4"
      },
      "source": [
        "#import all libraries needed\n",
        "import tensorflow as tf                             \n",
        "from matplotlib import pyplot as plt                        \n",
        "import numpy as np"
      ],
      "execution_count": null,
      "outputs": []
    },
    {
      "cell_type": "code",
      "metadata": {
        "id": "TDV3krsFAZh_",
        "colab": {
          "base_uri": "https://localhost:8080/"
        },
        "outputId": "0df19203-a8af-4ac3-976d-a3644219f030"
      },
      "source": [
        "#load MNIST dataset with samples and splitting it\n",
        "from keras.datasets import mnist\n",
        "objects=mnist\n",
        "(train_img,train_lab),(test_img,test_lab)=objects.load_data()"
      ],
      "execution_count": null,
      "outputs": [
        {
          "output_type": "stream",
          "name": "stdout",
          "text": [
            "Downloading data from https://storage.googleapis.com/tensorflow/tf-keras-datasets/mnist.npz\n",
            "11493376/11490434 [==============================] - 0s 0us/step\n",
            "11501568/11490434 [==============================] - 0s 0us/step\n"
          ]
        }
      ]
    },
    {
      "cell_type": "code",
      "metadata": {
        "colab": {
          "base_uri": "https://localhost:8080/"
        },
        "id": "4B-CtTaJA-BN",
        "outputId": "8c170924-a8a2-4752-c9a6-1d66feb6ced1"
      },
      "source": [
        "#Checking the number of images in testing and training along with their size\n",
        "print('Training images shape : ',train_img.shape)\n",
        "print('Testing images shape : ',test_img.shape)"
      ],
      "execution_count": null,
      "outputs": [
        {
          "output_type": "stream",
          "name": "stdout",
          "text": [
            "Training images shape :  (60000, 28, 28)\n",
            "Testing images shape :  (10000, 28, 28)\n"
          ]
        }
      ]
    },
    {
      "cell_type": "code",
      "metadata": {
        "id": "BC_32xX9Bfp0"
      },
      "source": [
        "#Normalizing the Images\n",
        "train_img=train_img/255.0\n",
        "test_img=test_img/255.0"
      ],
      "execution_count": null,
      "outputs": []
    },
    {
      "cell_type": "code",
      "metadata": {
        "id": "zN-aBVqJCARE"
      },
      "source": [
        "#Creating the neural network model\n",
        "# Add one flattened input layer for the pixels\n",
        "# Add two dense hidden layers\n",
        "# Add one dense output layer for the 10 digits \n",
        "from keras.models import Sequential\n",
        "from keras.layers import Flatten,Dense\n",
        "model=Sequential()\n",
        "input_layer= Flatten(input_shape=(28,28))\n",
        "model.add(input_layer)\n",
        "hidden_layer1=Dense(512,activation='relu')\n",
        "model.add(hidden_layer1)\n",
        "hidden_layer2=Dense(512,activation='relu')\n",
        "model.add(hidden_layer2)\n",
        "output_layer=Dense(10,activation='softmax')\n",
        "model.add(output_layer)"
      ],
      "execution_count": null,
      "outputs": []
    },
    {
      "cell_type": "code",
      "metadata": {
        "id": "zdTZrO65CxL4"
      },
      "source": [
        "#compiling and optimizing the sequential model\n",
        "model.compile(optimizer = 'adam', loss = 'sparse_categorical_crossentropy', metrics=['accuracy'])"
      ],
      "execution_count": null,
      "outputs": []
    },
    {
      "cell_type": "code",
      "metadata": {
        "colab": {
          "base_uri": "https://localhost:8080/"
        },
        "id": "DymAq0AbOMxl",
        "outputId": "c1aab1de-c543-4188-b9c4-58b12b6108f5"
      },
      "source": [
        "# Training the model\n",
        "model.fit(train_img,train_lab,epochs=10)"
      ],
      "execution_count": null,
      "outputs": [
        {
          "output_type": "stream",
          "name": "stdout",
          "text": [
            "Epoch 1/10\n",
            "1875/1875 [==============================] - 17s 9ms/step - loss: 0.1854 - accuracy: 0.9440\n",
            "Epoch 2/10\n",
            "1875/1875 [==============================] - 16s 8ms/step - loss: 0.0808 - accuracy: 0.9747\n",
            "Epoch 3/10\n",
            "1875/1875 [==============================] - 17s 9ms/step - loss: 0.0565 - accuracy: 0.9823\n",
            "Epoch 4/10\n",
            "1875/1875 [==============================] - 16s 9ms/step - loss: 0.0445 - accuracy: 0.9859\n",
            "Epoch 5/10\n",
            "1875/1875 [==============================] - 16s 8ms/step - loss: 0.0330 - accuracy: 0.9895\n",
            "Epoch 6/10\n",
            "1875/1875 [==============================] - 16s 8ms/step - loss: 0.0295 - accuracy: 0.9907\n",
            "Epoch 7/10\n",
            "1875/1875 [==============================] - 16s 8ms/step - loss: 0.0249 - accuracy: 0.9919\n",
            "Epoch 8/10\n",
            "1875/1875 [==============================] - 15s 8ms/step - loss: 0.0232 - accuracy: 0.9930\n",
            "Epoch 9/10\n",
            "1875/1875 [==============================] - 15s 8ms/step - loss: 0.0200 - accuracy: 0.9936\n",
            "Epoch 10/10\n",
            "1875/1875 [==============================] - 15s 8ms/step - loss: 0.0205 - accuracy: 0.9941\n"
          ]
        },
        {
          "output_type": "execute_result",
          "data": {
            "text/plain": [
              "<keras.callbacks.History at 0x7f63cf023d50>"
            ]
          },
          "metadata": {},
          "execution_count": 7
        }
      ]
    },
    {
      "cell_type": "code",
      "metadata": {
        "colab": {
          "base_uri": "https://localhost:8080/"
        },
        "id": "yo0Tan_UNMVP",
        "outputId": "e5e10c4a-338c-468e-8cc3-5e9ac5cb0f20"
      },
      "source": [
        "#Evaluating the model\n",
        "loss_and_acc=model.evaluate(test_img,test_lab,verbose=2)\n",
        "print(\"Test Loss\", loss_and_acc[0])\n",
        "print(\"Test Accuracy\", loss_and_acc[1])"
      ],
      "execution_count": null,
      "outputs": [
        {
          "output_type": "stream",
          "name": "stdout",
          "text": [
            "313/313 - 1s - loss: 0.1072 - accuracy: 0.9794 - 1s/epoch - 4ms/step\n",
            "Test Loss 0.10718531161546707\n",
            "Test Accuracy 0.9793999791145325\n"
          ]
        }
      ]
    },
    {
      "cell_type": "code",
      "metadata": {
        "colab": {
          "base_uri": "https://localhost:8080/"
        },
        "id": "0Qce044RNqVg",
        "outputId": "03046f1a-79f2-424f-96ec-4c2d76d6d6c2"
      },
      "source": [
        "# Saving the model\n",
        "model.save('handwritten_digits.model')"
      ],
      "execution_count": null,
      "outputs": [
        {
          "output_type": "stream",
          "name": "stdout",
          "text": [
            "INFO:tensorflow:Assets written to: handwritten_digits.model/assets\n"
          ]
        }
      ]
    },
    {
      "cell_type": "markdown",
      "metadata": {
        "id": "pZ6luaRrPGx7"
      },
      "source": [
        "MODEL TESTING"
      ]
    },
    {
      "cell_type": "code",
      "metadata": {
        "colab": {
          "base_uri": "https://localhost:8080/",
          "height": 299
        },
        "id": "3NSUNJx6PLm1",
        "outputId": "e9451f26-ef0f-4c7b-b34e-9df2e36554af"
      },
      "source": [
        "plt.imshow(test_img[0],cmap='gray_r')\n",
        "plt.title('Actual Value: {}'.format(test_lab[0]))\n",
        "prediction=model.predict(test_img)\n",
        "plt.axis('off')\n",
        "print('Predicted Value: ',np.argmax(prediction[0]))\n",
        "if(test_lab[0]==(np.argmax(prediction[0]))):\n",
        "  print('Successful prediction')\n",
        "else:\n",
        "  print('Unsuccessful prediction')"
      ],
      "execution_count": null,
      "outputs": [
        {
          "output_type": "stream",
          "name": "stdout",
          "text": [
            "Predicted Value:  7\n",
            "Successful prediction\n"
          ]
        },
        {
          "output_type": "display_data",
          "data": {
            "image/png": "[encoded data removed]",
            "text/plain": [
              "<Figure size 432x288 with 1 Axes>"
            ]
          },
          "metadata": {
            "needs_background": "light"
          }
        }
      ]
    },
    {
      "cell_type": "code",
      "metadata": {
        "colab": {
          "base_uri": "https://localhost:8080/",
          "height": 299
        },
        "id": "4pGmWC0xPcLR",
        "outputId": "f99e3d68-4293-4701-e18a-640ab8b52986"
      },
      "source": [
        "plt.imshow(test_img[15],cmap='gray_r')\n",
        "plt.title('Actual Value: {}'.format(test_lab[15]))\n",
        "prediction=model.predict(test_img)\n",
        "plt.axis('off')\n",
        "print('Predicted Value: ',np.argmax(prediction[15]))\n",
        "if(test_lab[15]==(np.argmax(prediction[15]))):\n",
        "  print('Successful prediction')\n",
        "else:\n",
        "  print('Unsuccessful prediction')"
      ],
      "execution_count": null,
      "outputs": [
        {
          "output_type": "stream",
          "name": "stdout",
          "text": [
            "Predicted Value:  5\n",
            "Successful prediction\n"
          ]
        },
        {
          "output_type": "display_data",
          "data": {
            "image/png": "[encoded data removed]",
            "text/plain": [
              "<Figure size 432x288 with 1 Axes>"
            ]
          },
          "metadata": {
            "needs_background": "light"
          }
        }
      ]
    },
    {
      "cell_type": "code",
      "metadata": {
        "colab": {
          "base_uri": "https://localhost:8080/",
          "height": 299
        },
        "id": "hwgZtFPRPmVd",
        "outputId": "68bd5f8f-26bd-4d8f-96be-912806d6c8dc"
      },
      "source": [
        "plt.imshow(test_img[50],cmap='gray_r')\n",
        "plt.title('Actual Value: {}'.format(test_lab[50]))\n",
        "prediction=model.predict(test_img)\n",
        "plt.axis('off')\n",
        "print('Predicted Value: ',np.argmax(prediction[50]))\n",
        "if(test_lab[50]==(np.argmax(prediction[50]))):\n",
        "  print('Successful prediction')\n",
        "else:\n",
        "  print('Unsuccessful prediction')"
      ],
      "execution_count": null,
      "outputs": [
        {
          "output_type": "stream",
          "name": "stdout",
          "text": [
            "Predicted Value:  6\n",
            "Successful prediction\n"
          ]
        },
        {
          "output_type": "display_data",
          "data": {
            "image/png": "[encoded data removed]",
            "text/plain": [
              "<Figure size 432x288 with 1 Axes>"
            ]
          },
          "metadata": {
            "needs_background": "light"
          }
        }
      ]
    },
    {
      "cell_type": "code",
      "metadata": {
        "colab": {
          "base_uri": "https://localhost:8080/",
          "height": 299
        },
        "id": "JyNY6DULP0QM",
        "outputId": "3583ab2d-e58e-4f46-d4a5-b0defe4841e1"
      },
      "source": [
        "plt.imshow(test_img[100],cmap='gray_r')\n",
        "plt.title('Actual Value: {}'.format(test_lab[100]))\n",
        "prediction=model.predict(test_img)\n",
        "plt.axis('off')\n",
        "print('Predicted Value: ',np.argmax(prediction[100]))\n",
        "if(test_lab[100]==(np.argmax(prediction[100]))):\n",
        "  print('Successful prediction')\n",
        "else:\n",
        "  print('Unsuccessful prediction')"
      ],
      "execution_count": null,
      "outputs": [
        {
          "output_type": "stream",
          "name": "stdout",
          "text": [
            "Predicted Value:  6\n",
            "Successful prediction\n"
          ]
        },
        {
          "output_type": "display_data",
          "data": {
            "image/png": "[encoded data removed]",
            "text/plain": [
              "<Figure size 432x288 with 1 Axes>"
            ]
          },
          "metadata": {
            "needs_background": "light"
          }
        }
      ]
    },
    {
      "cell_type": "code",
      "metadata": {
        "colab": {
          "base_uri": "https://localhost:8080/",
          "height": 299
        },
        "id": "cS8ogosSQH1P",
        "outputId": "e4d66f62-cd66-4d77-b2d7-ef904be4dd9b"
      },
      "source": [
        "plt.imshow(test_img[1000],cmap='gray_r')\n",
        "plt.title('Actual Value: {}'.format(test_lab[1000]))\n",
        "prediction=model.predict(test_img)\n",
        "plt.axis('off')\n",
        "print('Predicted Value: ',np.argmax(prediction[1000]))\n",
        "if(test_lab[1000]==(np.argmax(prediction[1000]))):\n",
        "  print('Successful prediction')\n",
        "else:\n",
        "  print('Unsuccessful prediction')"
      ],
      "execution_count": null,
      "outputs": [
        {
          "output_type": "stream",
          "name": "stdout",
          "text": [
            "Predicted Value:  9\n",
            "Successful prediction\n"
          ]
        },
        {
          "output_type": "display_data",
          "data": {
            "image/png": "[encoded data removed]",
            "text/plain": [
              "<Figure size 432x288 with 1 Axes>"
            ]
          },
          "metadata": {
            "needs_background": "light"
          }
        }
      ]
    },
    {
      "cell_type": "code",
      "metadata": {
        "colab": {
          "base_uri": "https://localhost:8080/",
          "height": 299
        },
        "id": "lqZip9UoQbTi",
        "outputId": "a40405d1-ea4f-4064-f7b6-974f963b2da0"
      },
      "source": [
        "plt.imshow(test_img[56],cmap='gray_r')\n",
        "plt.title('Actual Value: {}'.format(test_lab[56]))\n",
        "prediction=model.predict(test_img)\n",
        "plt.axis('off')\n",
        "print('Predicted Value: ',np.argmax(prediction[56]))\n",
        "if(test_lab[56]==(np.argmax(prediction[56]))):\n",
        "  print('Successful prediction')\n",
        "else:\n",
        "  print('Unsuccessful prediction')"
      ],
      "execution_count": null,
      "outputs": [
        {
          "output_type": "stream",
          "name": "stdout",
          "text": [
            "Predicted Value:  4\n",
            "Successful prediction\n"
          ]
        },
        {
          "output_type": "display_data",
          "data": {
            "image/png": "[encoded data removed]",
            "text/plain": [
              "<Figure size 432x288 with 1 Axes>"
            ]
          },
          "metadata": {
            "needs_background": "light"
          }
        }
      ]
    }
  ]
}